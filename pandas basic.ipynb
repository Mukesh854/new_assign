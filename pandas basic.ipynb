{
 "cells": [
  {
   "cell_type": "code",
   "execution_count": 1,
   "id": "dee1c478-259d-4598-af15-1dcbca50875a",
   "metadata": {},
   "outputs": [],
   "source": [
    "import pandas as pd\n"
   ]
  },
  {
   "cell_type": "markdown",
   "id": "3ca2c4c8-2e69-4cc8-8be1-abe83bd8e5b0",
   "metadata": {},
   "source": [
    "Q1. Create a Pandas Series that contains the following data: 4, 8, 15, 16, 23, and 42. Then, print the series."
   ]
  },
  {
   "cell_type": "code",
   "execution_count": 2,
   "id": "8bc10dc0-ed49-4738-b067-df41c55d34e5",
   "metadata": {},
   "outputs": [
    {
     "data": {
      "text/plain": [
       "0     4\n",
       "1     8\n",
       "2    15\n",
       "3    16\n",
       "4    23\n",
       "5    42\n",
       "dtype: int64"
      ]
     },
     "execution_count": 2,
     "metadata": {},
     "output_type": "execute_result"
    }
   ],
   "source": [
    "list=[4,8,15,16,23,42]\n",
    "pd.Series(list)"
   ]
  },
  {
   "cell_type": "markdown",
   "id": "04d1dab5-9257-42e7-aff0-319726712513",
   "metadata": {},
   "source": [
    "Q2. Create a variable of list type containing 10 elements in it, and apply pandas.Series function on the\n",
    "variable print it."
   ]
  },
  {
   "cell_type": "code",
   "execution_count": 3,
   "id": "3424d2e2-334e-4a7d-8b58-5cf35dcc4e98",
   "metadata": {},
   "outputs": [
    {
     "data": {
      "text/plain": [
       "0    23\n",
       "1    54\n",
       "2     3\n",
       "3    56\n",
       "4     2\n",
       "5    78\n",
       "6    23\n",
       "7     7\n",
       "8     2\n",
       "9    87\n",
       "dtype: int64"
      ]
     },
     "execution_count": 3,
     "metadata": {},
     "output_type": "execute_result"
    }
   ],
   "source": [
    "my_list=[23,54,3,56,2,78,23,7,2,87]\n",
    "my_series=pd.Series(my_list)\n",
    "my_series"
   ]
  },
  {
   "cell_type": "markdown",
   "id": "5a8374d1-0fe6-42a7-b8ab-b710244fce2d",
   "metadata": {},
   "source": [
    "Q3. Create a Pandas DataFrame that contains the following data:"
   ]
  },
  {
   "cell_type": "code",
   "execution_count": 11,
   "id": "7568ba4b-69d0-4f23-9a48-fa0e0859a8e8",
   "metadata": {},
   "outputs": [
    {
     "data": {
      "text/html": [
       "<div>\n",
       "<style scoped>\n",
       "    .dataframe tbody tr th:only-of-type {\n",
       "        vertical-align: middle;\n",
       "    }\n",
       "\n",
       "    .dataframe tbody tr th {\n",
       "        vertical-align: top;\n",
       "    }\n",
       "\n",
       "    .dataframe thead th {\n",
       "        text-align: right;\n",
       "    }\n",
       "</style>\n",
       "<table border=\"1\" class=\"dataframe\">\n",
       "  <thead>\n",
       "    <tr style=\"text-align: right;\">\n",
       "      <th></th>\n",
       "      <th>Name</th>\n",
       "      <th>Age</th>\n",
       "      <th>Gender</th>\n",
       "    </tr>\n",
       "  </thead>\n",
       "  <tbody>\n",
       "    <tr>\n",
       "      <th>0</th>\n",
       "      <td>Alice</td>\n",
       "      <td>25</td>\n",
       "      <td>Female</td>\n",
       "    </tr>\n",
       "    <tr>\n",
       "      <th>1</th>\n",
       "      <td>Bob</td>\n",
       "      <td>30</td>\n",
       "      <td>Male</td>\n",
       "    </tr>\n",
       "    <tr>\n",
       "      <th>2</th>\n",
       "      <td>Claire</td>\n",
       "      <td>27</td>\n",
       "      <td>Female</td>\n",
       "    </tr>\n",
       "  </tbody>\n",
       "</table>\n",
       "</div>"
      ],
      "text/plain": [
       "     Name  Age  Gender\n",
       "0   Alice   25  Female\n",
       "1     Bob   30    Male\n",
       "2  Claire   27  Female"
      ]
     },
     "execution_count": 11,
     "metadata": {},
     "output_type": "execute_result"
    }
   ],
   "source": [
    "data={\"Name\":[\"Alice\",\"Bob\",\"Claire\"],\n",
    "     \"Age\":[25,30,27],\n",
    "     \"Gender\":[\"Female\",\"Male\",\"Female\"]}\n",
    "pd.DataFrame(data)             \n",
    "              "
   ]
  },
  {
   "cell_type": "markdown",
   "id": "78305e62-367e-4042-a162-bfe0f5acc1e6",
   "metadata": {},
   "source": [
    "Q4. What is ‘DataFrame’ in pandas and how is it different from pandas.series? Explain with an example."
   ]
  },
  {
   "cell_type": "raw",
   "id": "7718693b-d5c6-42c0-a22e-aea01013c100",
   "metadata": {},
   "source": []
  },
  {
   "cell_type": "markdown",
   "id": "61978c0a-9308-4989-b5da-1c3cbe26726a",
   "metadata": {},
   "source": [
    "DataFrame:- A DataFrame is a two dimesional data structure with rows and columns that holds multiple panda series  in tabular format.\n",
    "\n",
    "Series:- A Series is a one dimesional data structure that stores a single column of data with an associated index."
   ]
  },
  {
   "cell_type": "code",
   "execution_count": 14,
   "id": "cce459e0-1d2f-4a2b-a29e-c25f78b9718b",
   "metadata": {},
   "outputs": [
    {
     "name": "stdout",
     "output_type": "stream",
     "text": [
      "Dataframe\n"
     ]
    },
    {
     "data": {
      "text/html": [
       "<div>\n",
       "<style scoped>\n",
       "    .dataframe tbody tr th:only-of-type {\n",
       "        vertical-align: middle;\n",
       "    }\n",
       "\n",
       "    .dataframe tbody tr th {\n",
       "        vertical-align: top;\n",
       "    }\n",
       "\n",
       "    .dataframe thead th {\n",
       "        text-align: right;\n",
       "    }\n",
       "</style>\n",
       "<table border=\"1\" class=\"dataframe\">\n",
       "  <thead>\n",
       "    <tr style=\"text-align: right;\">\n",
       "      <th></th>\n",
       "      <th>name</th>\n",
       "      <th>age</th>\n",
       "      <th>gender</th>\n",
       "    </tr>\n",
       "  </thead>\n",
       "  <tbody>\n",
       "    <tr>\n",
       "      <th>0</th>\n",
       "      <td>akshay</td>\n",
       "      <td>20</td>\n",
       "      <td>male</td>\n",
       "    </tr>\n",
       "    <tr>\n",
       "      <th>1</th>\n",
       "      <td>surekha</td>\n",
       "      <td>19</td>\n",
       "      <td>Female</td>\n",
       "    </tr>\n",
       "    <tr>\n",
       "      <th>2</th>\n",
       "      <td>payal</td>\n",
       "      <td>19</td>\n",
       "      <td>Female</td>\n",
       "    </tr>\n",
       "    <tr>\n",
       "      <th>3</th>\n",
       "      <td>nitya</td>\n",
       "      <td>21</td>\n",
       "      <td>Female</td>\n",
       "    </tr>\n",
       "  </tbody>\n",
       "</table>\n",
       "</div>"
      ],
      "text/plain": [
       "      name  age  gender\n",
       "0   akshay   20    male\n",
       "1  surekha   19  Female\n",
       "2    payal   19  Female\n",
       "3    nitya   21  Female"
      ]
     },
     "execution_count": 14,
     "metadata": {},
     "output_type": "execute_result"
    }
   ],
   "source": [
    "Series_dataframe={\"name\":[\"akshay\",\"surekha\",\"payal\",\"nitya\"],\n",
    "                  \"age\":[20,19,19,21],\n",
    "                  \"gender\":[\"male\",\"Female\",\"Female\",\"Female\"]}\n",
    "\n",
    "dataframe=pd.DataFrame(Series_dataframe)\n",
    "print(\"Dataframe\")\n",
    "dataframe #example of dataframe"
   ]
  },
  {
   "cell_type": "code",
   "execution_count": 15,
   "id": "d41ced9e-e234-45fe-b274-5d22566a0000",
   "metadata": {},
   "outputs": [
    {
     "name": "stdout",
     "output_type": "stream",
     "text": [
      "Series\n"
     ]
    },
    {
     "data": {
      "text/plain": [
       "0    20\n",
       "1    19\n",
       "2    19\n",
       "3    21\n",
       "Name: age, dtype: int64"
      ]
     },
     "execution_count": 15,
     "metadata": {},
     "output_type": "execute_result"
    }
   ],
   "source": [
    "print(\"Series\")\n",
    "pd.Series(dataframe[\"age\"])"
   ]
  },
  {
   "cell_type": "markdown",
   "id": "535d7564-6ca4-4bc6-b302-4e23588b5447",
   "metadata": {},
   "source": [
    "Q5. What are some common functions you can use to manipulate data in a Pandas DataFrame? Can\n",
    "you give an example of when you might use one of these functions?"
   ]
  },
  {
   "cell_type": "markdown",
   "id": "469d2b80-e9c1-44ba-afde-0dae2a650d92",
   "metadata": {},
   "source": [
    "head() and tail() are functions you can use to manipulare data in a pandas  Dataframe.\n"
   ]
  },
  {
   "cell_type": "code",
   "execution_count": 20,
   "id": "7def50a6-ffcd-4ea7-98c3-3b9f81bdb8d4",
   "metadata": {},
   "outputs": [
    {
     "data": {
      "text/html": [
       "<div>\n",
       "<style scoped>\n",
       "    .dataframe tbody tr th:only-of-type {\n",
       "        vertical-align: middle;\n",
       "    }\n",
       "\n",
       "    .dataframe tbody tr th {\n",
       "        vertical-align: top;\n",
       "    }\n",
       "\n",
       "    .dataframe thead th {\n",
       "        text-align: right;\n",
       "    }\n",
       "</style>\n",
       "<table border=\"1\" class=\"dataframe\">\n",
       "  <thead>\n",
       "    <tr style=\"text-align: right;\">\n",
       "      <th></th>\n",
       "      <th>Name</th>\n",
       "      <th>Age</th>\n",
       "      <th>City</th>\n",
       "    </tr>\n",
       "  </thead>\n",
       "  <tbody>\n",
       "    <tr>\n",
       "      <th>0</th>\n",
       "      <td>John</td>\n",
       "      <td>28</td>\n",
       "      <td>New York</td>\n",
       "    </tr>\n",
       "    <tr>\n",
       "      <th>1</th>\n",
       "      <td>Alice</td>\n",
       "      <td>24</td>\n",
       "      <td>Los Angeles</td>\n",
       "    </tr>\n",
       "    <tr>\n",
       "      <th>2</th>\n",
       "      <td>Bob</td>\n",
       "      <td>22</td>\n",
       "      <td>Chicago</td>\n",
       "    </tr>\n",
       "    <tr>\n",
       "      <th>3</th>\n",
       "      <td>Eve</td>\n",
       "      <td>30</td>\n",
       "      <td>San Francisco</td>\n",
       "    </tr>\n",
       "  </tbody>\n",
       "</table>\n",
       "</div>"
      ],
      "text/plain": [
       "    Name  Age           City\n",
       "0   John   28       New York\n",
       "1  Alice   24    Los Angeles\n",
       "2    Bob   22        Chicago\n",
       "3    Eve   30  San Francisco"
      ]
     },
     "execution_count": 20,
     "metadata": {},
     "output_type": "execute_result"
    }
   ],
   "source": [
    "data1 = {\n",
    "    'Name': ['John', 'Alice', 'Bob', 'Eve'],\n",
    "    'Age': [28, 24, 22, 30],\n",
    "    'City': ['New York', 'Los Angeles', 'Chicago', 'San Francisco']\n",
    "}\n",
    "df=pd.DataFrame(data1)\n",
    "df"
   ]
  },
  {
   "cell_type": "code",
   "execution_count": 21,
   "id": "1d1a5a1e-d416-42b0-ac10-abc8ad2f9ce7",
   "metadata": {},
   "outputs": [
    {
     "data": {
      "text/html": [
       "<div>\n",
       "<style scoped>\n",
       "    .dataframe tbody tr th:only-of-type {\n",
       "        vertical-align: middle;\n",
       "    }\n",
       "\n",
       "    .dataframe tbody tr th {\n",
       "        vertical-align: top;\n",
       "    }\n",
       "\n",
       "    .dataframe thead th {\n",
       "        text-align: right;\n",
       "    }\n",
       "</style>\n",
       "<table border=\"1\" class=\"dataframe\">\n",
       "  <thead>\n",
       "    <tr style=\"text-align: right;\">\n",
       "      <th></th>\n",
       "      <th>Name</th>\n",
       "      <th>Age</th>\n",
       "      <th>City</th>\n",
       "    </tr>\n",
       "  </thead>\n",
       "  <tbody>\n",
       "    <tr>\n",
       "      <th>0</th>\n",
       "      <td>John</td>\n",
       "      <td>28</td>\n",
       "      <td>New York</td>\n",
       "    </tr>\n",
       "    <tr>\n",
       "      <th>1</th>\n",
       "      <td>Alice</td>\n",
       "      <td>24</td>\n",
       "      <td>Los Angeles</td>\n",
       "    </tr>\n",
       "    <tr>\n",
       "      <th>2</th>\n",
       "      <td>Bob</td>\n",
       "      <td>22</td>\n",
       "      <td>Chicago</td>\n",
       "    </tr>\n",
       "    <tr>\n",
       "      <th>3</th>\n",
       "      <td>Eve</td>\n",
       "      <td>30</td>\n",
       "      <td>San Francisco</td>\n",
       "    </tr>\n",
       "  </tbody>\n",
       "</table>\n",
       "</div>"
      ],
      "text/plain": [
       "    Name  Age           City\n",
       "0   John   28       New York\n",
       "1  Alice   24    Los Angeles\n",
       "2    Bob   22        Chicago\n",
       "3    Eve   30  San Francisco"
      ]
     },
     "execution_count": 21,
     "metadata": {},
     "output_type": "execute_result"
    }
   ],
   "source": [
    "df.head()"
   ]
  },
  {
   "cell_type": "code",
   "execution_count": 22,
   "id": "fc4bc2b1-3e0f-49ac-b67f-05a41a4907bd",
   "metadata": {},
   "outputs": [
    {
     "data": {
      "text/html": [
       "<div>\n",
       "<style scoped>\n",
       "    .dataframe tbody tr th:only-of-type {\n",
       "        vertical-align: middle;\n",
       "    }\n",
       "\n",
       "    .dataframe tbody tr th {\n",
       "        vertical-align: top;\n",
       "    }\n",
       "\n",
       "    .dataframe thead th {\n",
       "        text-align: right;\n",
       "    }\n",
       "</style>\n",
       "<table border=\"1\" class=\"dataframe\">\n",
       "  <thead>\n",
       "    <tr style=\"text-align: right;\">\n",
       "      <th></th>\n",
       "      <th>Name</th>\n",
       "      <th>Age</th>\n",
       "      <th>City</th>\n",
       "    </tr>\n",
       "  </thead>\n",
       "  <tbody>\n",
       "    <tr>\n",
       "      <th>0</th>\n",
       "      <td>John</td>\n",
       "      <td>28</td>\n",
       "      <td>New York</td>\n",
       "    </tr>\n",
       "    <tr>\n",
       "      <th>1</th>\n",
       "      <td>Alice</td>\n",
       "      <td>24</td>\n",
       "      <td>Los Angeles</td>\n",
       "    </tr>\n",
       "    <tr>\n",
       "      <th>2</th>\n",
       "      <td>Bob</td>\n",
       "      <td>22</td>\n",
       "      <td>Chicago</td>\n",
       "    </tr>\n",
       "    <tr>\n",
       "      <th>3</th>\n",
       "      <td>Eve</td>\n",
       "      <td>30</td>\n",
       "      <td>San Francisco</td>\n",
       "    </tr>\n",
       "  </tbody>\n",
       "</table>\n",
       "</div>"
      ],
      "text/plain": [
       "    Name  Age           City\n",
       "0   John   28       New York\n",
       "1  Alice   24    Los Angeles\n",
       "2    Bob   22        Chicago\n",
       "3    Eve   30  San Francisco"
      ]
     },
     "execution_count": 22,
     "metadata": {},
     "output_type": "execute_result"
    }
   ],
   "source": [
    "df.tail()"
   ]
  },
  {
   "cell_type": "markdown",
   "id": "4fb88a70-7e20-4294-a2e5-0a37641c5c0e",
   "metadata": {},
   "source": [
    "Q6. Which of the following is mutable in nature Series, DataFrame, Panel?"
   ]
  },
  {
   "cell_type": "markdown",
   "id": "1f411e6c-4408-419d-bc4a-dd44c90e3cab",
   "metadata": {},
   "source": [
    "DataFrame: A DataFrame is mutable, meaning you can modify its contents, add or remove rows and columns, and update values in the DataFrame after it has been created."
   ]
  },
  {
   "cell_type": "code",
   "execution_count": 26,
   "id": "55cd2331-d67f-4490-aca8-43ecd9954889",
   "metadata": {},
   "outputs": [
    {
     "data": {
      "text/html": [
       "<div>\n",
       "<style scoped>\n",
       "    .dataframe tbody tr th:only-of-type {\n",
       "        vertical-align: middle;\n",
       "    }\n",
       "\n",
       "    .dataframe tbody tr th {\n",
       "        vertical-align: top;\n",
       "    }\n",
       "\n",
       "    .dataframe thead th {\n",
       "        text-align: right;\n",
       "    }\n",
       "</style>\n",
       "<table border=\"1\" class=\"dataframe\">\n",
       "  <thead>\n",
       "    <tr style=\"text-align: right;\">\n",
       "      <th></th>\n",
       "      <th>Name</th>\n",
       "      <th>Age</th>\n",
       "    </tr>\n",
       "  </thead>\n",
       "  <tbody>\n",
       "    <tr>\n",
       "      <th>0</th>\n",
       "      <td>John</td>\n",
       "      <td>28</td>\n",
       "    </tr>\n",
       "    <tr>\n",
       "      <th>1</th>\n",
       "      <td>Alice</td>\n",
       "      <td>24</td>\n",
       "    </tr>\n",
       "    <tr>\n",
       "      <th>2</th>\n",
       "      <td>Bob</td>\n",
       "      <td>22</td>\n",
       "    </tr>\n",
       "  </tbody>\n",
       "</table>\n",
       "</div>"
      ],
      "text/plain": [
       "    Name  Age\n",
       "0   John   28\n",
       "1  Alice   24\n",
       "2    Bob   22"
      ]
     },
     "execution_count": 26,
     "metadata": {},
     "output_type": "execute_result"
    }
   ],
   "source": [
    "dict = {\n",
    "    'Name': ['John', 'Alice', 'Bob'],\n",
    "    'Age': [28, 24, 22],\n",
    "}\n",
    "df1=pd.DataFrame(dict)\n",
    "df1"
   ]
  },
  {
   "cell_type": "code",
   "execution_count": 36,
   "id": "dda7deb7-0035-4ab7-95ab-c43cf0b376cc",
   "metadata": {},
   "outputs": [
    {
     "data": {
      "text/html": [
       "<div>\n",
       "<style scoped>\n",
       "    .dataframe tbody tr th:only-of-type {\n",
       "        vertical-align: middle;\n",
       "    }\n",
       "\n",
       "    .dataframe tbody tr th {\n",
       "        vertical-align: top;\n",
       "    }\n",
       "\n",
       "    .dataframe thead th {\n",
       "        text-align: right;\n",
       "    }\n",
       "</style>\n",
       "<table border=\"1\" class=\"dataframe\">\n",
       "  <thead>\n",
       "    <tr style=\"text-align: right;\">\n",
       "      <th></th>\n",
       "      <th>Name</th>\n",
       "      <th>Age</th>\n",
       "      <th>cities</th>\n",
       "      <th>age</th>\n",
       "    </tr>\n",
       "  </thead>\n",
       "  <tbody>\n",
       "    <tr>\n",
       "      <th>0</th>\n",
       "      <td>John</td>\n",
       "      <td>28</td>\n",
       "      <td>mumbai</td>\n",
       "      <td>NaN</td>\n",
       "    </tr>\n",
       "    <tr>\n",
       "      <th>1</th>\n",
       "      <td>Alice</td>\n",
       "      <td>24</td>\n",
       "      <td>indore</td>\n",
       "      <td>NaN</td>\n",
       "    </tr>\n",
       "    <tr>\n",
       "      <th>2</th>\n",
       "      <td>Bob</td>\n",
       "      <td>23</td>\n",
       "      <td>pune</td>\n",
       "      <td>23.0</td>\n",
       "    </tr>\n",
       "  </tbody>\n",
       "</table>\n",
       "</div>"
      ],
      "text/plain": [
       "    Name  Age  cities   age\n",
       "0   John   28  mumbai   NaN\n",
       "1  Alice   24  indore   NaN\n",
       "2    Bob   23    pune  23.0"
      ]
     },
     "execution_count": 36,
     "metadata": {},
     "output_type": "execute_result"
    }
   ],
   "source": [
    "df1[\"cities\"]=[\"mumbai\",\"indore\",\"pune\"]\n",
    "df1"
   ]
  },
  {
   "cell_type": "code",
   "execution_count": 37,
   "id": "0c5aa4f9-ace2-49b9-ac7a-ba2be912f7f0",
   "metadata": {},
   "outputs": [
    {
     "data": {
      "text/html": [
       "<div>\n",
       "<style scoped>\n",
       "    .dataframe tbody tr th:only-of-type {\n",
       "        vertical-align: middle;\n",
       "    }\n",
       "\n",
       "    .dataframe tbody tr th {\n",
       "        vertical-align: top;\n",
       "    }\n",
       "\n",
       "    .dataframe thead th {\n",
       "        text-align: right;\n",
       "    }\n",
       "</style>\n",
       "<table border=\"1\" class=\"dataframe\">\n",
       "  <thead>\n",
       "    <tr style=\"text-align: right;\">\n",
       "      <th></th>\n",
       "      <th>Name</th>\n",
       "      <th>Age</th>\n",
       "      <th>cities</th>\n",
       "      <th>age</th>\n",
       "    </tr>\n",
       "  </thead>\n",
       "  <tbody>\n",
       "    <tr>\n",
       "      <th>0</th>\n",
       "      <td>John</td>\n",
       "      <td>28</td>\n",
       "      <td>mumbai</td>\n",
       "      <td>NaN</td>\n",
       "    </tr>\n",
       "    <tr>\n",
       "      <th>1</th>\n",
       "      <td>Alice</td>\n",
       "      <td>24</td>\n",
       "      <td>indore</td>\n",
       "      <td>NaN</td>\n",
       "    </tr>\n",
       "    <tr>\n",
       "      <th>2</th>\n",
       "      <td>Bob</td>\n",
       "      <td>24</td>\n",
       "      <td>pune</td>\n",
       "      <td>23.0</td>\n",
       "    </tr>\n",
       "  </tbody>\n",
       "</table>\n",
       "</div>"
      ],
      "text/plain": [
       "    Name  Age  cities   age\n",
       "0   John   28  mumbai   NaN\n",
       "1  Alice   24  indore   NaN\n",
       "2    Bob   24    pune  23.0"
      ]
     },
     "execution_count": 37,
     "metadata": {},
     "output_type": "execute_result"
    }
   ],
   "source": [
    "df1.loc[2,\"Age\"]=24\n",
    "df1"
   ]
  },
  {
   "cell_type": "markdown",
   "id": "eea0ce08-f190-4d96-8823-f61ef413e93b",
   "metadata": {},
   "source": [
    "Q7. Create a DataFrame using multiple Series. Explain with an example."
   ]
  },
  {
   "cell_type": "code",
   "execution_count": 58,
   "id": "51e1a87b-72a6-45c4-b3ba-378c4d2a3275",
   "metadata": {},
   "outputs": [
    {
     "data": {
      "text/html": [
       "<div>\n",
       "<style scoped>\n",
       "    .dataframe tbody tr th:only-of-type {\n",
       "        vertical-align: middle;\n",
       "    }\n",
       "\n",
       "    .dataframe tbody tr th {\n",
       "        vertical-align: top;\n",
       "    }\n",
       "\n",
       "    .dataframe thead th {\n",
       "        text-align: right;\n",
       "    }\n",
       "</style>\n",
       "<table border=\"1\" class=\"dataframe\">\n",
       "  <thead>\n",
       "    <tr style=\"text-align: right;\">\n",
       "      <th></th>\n",
       "      <th>name</th>\n",
       "      <th>salary</th>\n",
       "      <th>location</th>\n",
       "    </tr>\n",
       "  </thead>\n",
       "  <tbody>\n",
       "    <tr>\n",
       "      <th>0</th>\n",
       "      <td>apple</td>\n",
       "      <td>40</td>\n",
       "      <td>pune</td>\n",
       "    </tr>\n",
       "    <tr>\n",
       "      <th>1</th>\n",
       "      <td>google</td>\n",
       "      <td>50</td>\n",
       "      <td>banglore</td>\n",
       "    </tr>\n",
       "    <tr>\n",
       "      <th>2</th>\n",
       "      <td>amazon</td>\n",
       "      <td>67</td>\n",
       "      <td>mumbai</td>\n",
       "    </tr>\n",
       "    <tr>\n",
       "      <th>3</th>\n",
       "      <td>flipkart</td>\n",
       "      <td>90</td>\n",
       "      <td>hyderabad</td>\n",
       "    </tr>\n",
       "  </tbody>\n",
       "</table>\n",
       "</div>"
      ],
      "text/plain": [
       "       name  salary   location\n",
       "0     apple      40       pune\n",
       "1    google      50   banglore\n",
       "2    amazon      67     mumbai\n",
       "3  flipkart      90  hyderabad"
      ]
     },
     "execution_count": 58,
     "metadata": {},
     "output_type": "execute_result"
    }
   ],
   "source": [
    "company_name=pd.Series([\"apple\",\"google\",\"amazon\",\"flipkart\"])\n",
    "company_salary=pd.Series([40,50,67,90])\n",
    "company_city=pd.Series([\"pune\",\"banglore\",\"mumbai\",\"hyderabad\"])\n",
    "\n",
    "\n",
    "data_new={\"name\":company_name,\n",
    "          \"salary\":company_salary,\n",
    "          \"location\":company_city}\n",
    "newest=pd.DataFrame(data_new)\n",
    "newest"
   ]
  },
  {
   "cell_type": "code",
   "execution_count": null,
   "id": "1cc51836-1c30-41d7-a94c-80840c1f7809",
   "metadata": {},
   "outputs": [],
   "source": []
  },
  {
   "cell_type": "code",
   "execution_count": null,
   "id": "d3dbca66-3397-4951-af98-638bbecfb941",
   "metadata": {},
   "outputs": [],
   "source": []
  }
 ],
 "metadata": {
  "kernelspec": {
   "display_name": "Python 3 (ipykernel)",
   "language": "python",
   "name": "python3"
  },
  "language_info": {
   "codemirror_mode": {
    "name": "ipython",
    "version": 3
   },
   "file_extension": ".py",
   "mimetype": "text/x-python",
   "name": "python",
   "nbconvert_exporter": "python",
   "pygments_lexer": "ipython3",
   "version": "3.10.8"
  }
 },
 "nbformat": 4,
 "nbformat_minor": 5
}
